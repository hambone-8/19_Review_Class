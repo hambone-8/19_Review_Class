{
 "cells": [
  {
   "cell_type": "markdown",
   "metadata": {},
   "source": [
    "<img src=\"http://imgur.com/1ZcRyrc.png\" style=\"float: left; margin: 20px; height: 55px\">\n",
    "\n",
    "#  End-to-End Data Science: a Review\n",
    "\n",
    "_Authors: B Rhodes (DC)_"
   ]
  },
  {
   "cell_type": "markdown",
   "metadata": {},
   "source": [
    "## Learning Objectives\n",
    "\n",
    "After this lesson, students will be able to:\n",
    "\n",
    "\n",
    "- **Describe** the data science workflow.\n",
    "- Perform EDA using pandas\n",
    "- **Implement** one or more algorithms using sklearn\n",
    "- **Evaluate** the performance of a machine learning algorithm using various metrics.\n",
    "\n",
    "---"
   ]
  },
  {
   "cell_type": "code",
   "execution_count": null,
   "metadata": {
    "ExecuteTime": {
     "end_time": "2022-03-20T18:03:23.556188Z",
     "start_time": "2022-03-20T18:03:22.691034Z"
    }
   },
   "outputs": [],
   "source": [
    "# Imports\n",
    "import numpy as np\n",
    "import pandas as pd\n",
    "\n",
    "# sklearn imports\n",
    "from sklearn.linear_model import LinearRegression, RidgeCV, LassoCV, LogisticRegression\n",
    "from sklearn.svm import SVC\n",
    "from sklearn.neighbors import KNeighborsClassifier\n",
    "from sklearn.tree import DecisionTreeClassifier\n",
    "from sklearn.ensemble import RandomForestClassifier\n",
    "from sklearn.feature_selection import RFE\n",
    "\n",
    "from sklearn.model_selection import train_test_split, cross_val_score, GridSearchCV\n",
    "from sklearn.metrics import roc_curve, auc, confusion_matrix\n",
    "from sklearn.metrics import precision_score, recall_score, accuracy_score\n",
    "from sklearn.metrics import mean_squared_error, mean_absolute_error, r2_score\n",
    "\n",
    "from sklearn.preprocessing import StandardScaler\n",
    "import joblib\n",
    "\n",
    "\n",
    "# data\n",
    "from sklearn.datasets import load_boston, load_iris, load_diabetes\n",
    "\n",
    "# Import visualization modules\n",
    "import matplotlib.pyplot as plt\n",
    "import seaborn as sns\n",
    "%matplotlib inline\n",
    "\n"
   ]
  },
  {
   "cell_type": "markdown",
   "metadata": {},
   "source": [
    "## Background\n",
    "\n",
    "Diabetes is a chronic condition that causes a individual’s blood sugar level to become too high. Diabetics may suffer from one or more dangerous and sometimes life-threatening symptoms among which are:\n",
    "\n",
    "- High blood pressure\n",
    "- Increased risk of infection\n",
    "- Risk of a heart disease\n",
    "- Gastroparesis\n",
    "- Damaged blood vessels\n",
    "- Pancreas malfunctioning, etc. (World Health Organization, 2018)\n",
    "\n",
    "According to the World Health Organization, the number of people with diabetes has risen from 108 million in 1980 to 422 million in 2014 and this trend continues. (World Health Organization, 2018)\n",
    "\n",
    "The dataset used here is from a study of Pima Indians in Arizona. Due to a number of factors the Pima Indians, and other Native American populations suffer from worse health outcomes than the majority population. One factor is the switch to a high-fat diet common among whites and to a sedentary lifestyle that is making Native Americans sick at a faster rate than other Americans.\n",
    "\n",
    "The dataset has been restricted to the following patient population: \n",
    "\n",
    "- All patients are female\n",
    "- All patients are at least 21 years old\n",
    "- All patients are of Pima Indian heritage\n",
    "\n",
    "The data consists of the following features\n",
    "\n",
    "- Pregnancies: Number of times pregnant\n",
    "- Glucose: Plasma glucose concentration over 2 hours in an oral glucose tolerance test\n",
    "- BloodPressure: Diastolic blood pressure (mm Hg)\n",
    "- SkinThickness: Triceps skin fold thickness (mm)\n",
    "- Insulin: 2-Hour serum insulin (mu U/ml)\n",
    "- BMI: Body mass index (weight in kg/(height in m)2)\n",
    "- DiabetesPedigreeFunction: Diabetes pedigree function (a function which scores likelihood of diabetes based on family history)\n",
    "- Age: Age (years)\n",
    "- Outcome: Class variable (0 if non-diabetic, 1 if diabetic)\n",
    "\n",
    "Our goal is to build a model to to predict whether someone has diabetes or not.\n",
    "\n",
    "The data is located in this repo here: `./data/diabetes.csv`"
   ]
  },
  {
   "cell_type": "markdown",
   "metadata": {},
   "source": [
    "Load the diabetes data."
   ]
  },
  {
   "cell_type": "code",
   "execution_count": null,
   "metadata": {
    "ExecuteTime": {
     "end_time": "2022-03-20T18:03:52.765067Z",
     "start_time": "2022-03-20T18:03:52.746650Z"
    },
    "scrolled": true
   },
   "outputs": [],
   "source": [
    "# clean data is at './data/diabetes.csv'\n",
    "\n",
    "diabetes_df = pd.read_csv('./data/diabetes_fix.csv')\n",
    "\n",
    "diabetes_df.head()"
   ]
  },
  {
   "cell_type": "markdown",
   "metadata": {},
   "source": [
    "## EDA -\n",
    "The basic steps of exploratory data analysis are:\n",
    "1. Verify the data was read-in correctly and is properly formatted.\n",
    "2. Determine how much data we have and what the shape the data is.\n",
    "3. Identify the data types contained in the data.\n",
    "4. Identify the target (independent variable) and features (dependent variables).\n",
    "5. Look for missing data.\n",
    "6. Perform statistical analysis of the data, look for outliers, low variance features, etc.\n",
    "7. Look for correlations, between features and between features and the target.\n",
    "8. Visualize the data to see distributions, outliers, etc.\n",
    "\n",
    "A key goal of EDA, beyond understanding our data is to determine what preprocessing we might need to perform. This can be everything from converting data types, one-hot encoding, dropping features, filling in or dropping missing data, feature engineering, or going out to collect more data.\n",
    "\n",
    "### Pre-processing\n",
    "All data must be numerical and if present we need to fill-in missing data. We'll also do any feature engineering we think might help the process.\n"
   ]
  },
  {
   "cell_type": "markdown",
   "metadata": {},
   "source": [
    "### **Q. What is our target? Which columns are our dependent variables?**"
   ]
  },
  {
   "cell_type": "markdown",
   "metadata": {},
   "source": [
    "#### Answer: "
   ]
  },
  {
   "cell_type": "code",
   "execution_count": null,
   "metadata": {
    "ExecuteTime": {
     "end_time": "2022-03-20T18:03:54.446494Z",
     "start_time": "2022-03-20T18:03:54.433836Z"
    },
    "scrolled": true
   },
   "outputs": [],
   "source": [
    "## Check how much data and what types"
   ]
  },
  {
   "cell_type": "markdown",
   "metadata": {},
   "source": [
    "### Q. Other than `.info()` what other pandas commands would give us this information?\n",
    "\n"
   ]
  },
  {
   "cell_type": "code",
   "execution_count": null,
   "metadata": {
    "ExecuteTime": {
     "end_time": "2022-03-20T18:03:55.288274Z",
     "start_time": "2022-03-20T18:03:55.281757Z"
    }
   },
   "outputs": [],
   "source": [
    "# Answer here for determining how much data and what types are in the data set."
   ]
  },
  {
   "cell_type": "markdown",
   "metadata": {
    "ExecuteTime": {
     "end_time": "2022-03-20T15:51:44.598757Z",
     "start_time": "2022-03-20T15:51:44.589460Z"
    }
   },
   "source": [
    "### Q. Look for missing data. What's a quick way to check for missing values across the whole dataset?\n"
   ]
  },
  {
   "cell_type": "code",
   "execution_count": null,
   "metadata": {
    "ExecuteTime": {
     "end_time": "2022-03-20T18:03:57.929493Z",
     "start_time": "2022-03-20T18:03:57.921804Z"
    },
    "scrolled": false
   },
   "outputs": [],
   "source": [
    "# Hint: chain two pandas methods together."
   ]
  },
  {
   "cell_type": "markdown",
   "metadata": {},
   "source": [
    "Does this mean we have no missing data?"
   ]
  },
  {
   "cell_type": "markdown",
   "metadata": {},
   "source": [
    "Since the `BMI` column is made up of strings we should check they are all valid numerical values.\n"
   ]
  },
  {
   "cell_type": "code",
   "execution_count": null,
   "metadata": {
    "ExecuteTime": {
     "end_time": "2022-03-20T18:03:59.374071Z",
     "start_time": "2022-03-20T18:03:59.365800Z"
    }
   },
   "outputs": [],
   "source": []
  },
  {
   "cell_type": "markdown",
   "metadata": {},
   "source": [
    "### Fix data type issues and missing data."
   ]
  },
  {
   "cell_type": "code",
   "execution_count": null,
   "metadata": {
    "ExecuteTime": {
     "end_time": "2022-03-20T18:04:04.940884Z",
     "start_time": "2022-03-20T18:04:04.935073Z"
    }
   },
   "outputs": [],
   "source": [
    "# write a lambda function to map '?'s to NaN"
   ]
  },
  {
   "cell_type": "code",
   "execution_count": null,
   "metadata": {
    "ExecuteTime": {
     "end_time": "2022-03-20T18:04:34.431406Z",
     "start_time": "2022-03-20T18:04:34.426118Z"
    }
   },
   "outputs": [],
   "source": [
    "# use the apply method to apply the lambda function to BMI column\n",
    "\n",
    "# these will still be strings so we can convert to float in this step. It handles the NaNs"
   ]
  },
  {
   "cell_type": "code",
   "execution_count": null,
   "metadata": {
    "ExecuteTime": {
     "end_time": "2022-03-20T18:04:53.040100Z",
     "start_time": "2022-03-20T18:04:53.032477Z"
    }
   },
   "outputs": [],
   "source": [
    "# Look at the value counts. We have to include NaNs"
   ]
  },
  {
   "cell_type": "code",
   "execution_count": null,
   "metadata": {
    "ExecuteTime": {
     "end_time": "2022-03-20T18:04:55.709954Z",
     "start_time": "2022-03-20T18:04:55.690173Z"
    },
    "scrolled": true
   },
   "outputs": [],
   "source": []
  },
  {
   "cell_type": "markdown",
   "metadata": {},
   "source": [
    "#### Convert Outcome Column to Numeric"
   ]
  },
  {
   "cell_type": "code",
   "execution_count": null,
   "metadata": {
    "ExecuteTime": {
     "end_time": "2022-03-20T18:07:23.937688Z",
     "start_time": "2022-03-20T18:07:23.929433Z"
    }
   },
   "outputs": [],
   "source": []
  },
  {
   "cell_type": "code",
   "execution_count": null,
   "metadata": {
    "ExecuteTime": {
     "end_time": "2022-03-20T18:11:10.427130Z",
     "start_time": "2022-03-20T18:11:10.394827Z"
    },
    "scrolled": false
   },
   "outputs": [],
   "source": [
    "# generate summary statistics on the data"
   ]
  },
  {
   "cell_type": "code",
   "execution_count": null,
   "metadata": {
    "ExecuteTime": {
     "end_time": "2022-03-20T18:13:27.269155Z",
     "start_time": "2022-03-20T18:13:27.264722Z"
    }
   },
   "outputs": [],
   "source": [
    "# Let's fill the BMI = 0.0 with the median value."
   ]
  },
  {
   "cell_type": "code",
   "execution_count": null,
   "metadata": {
    "ExecuteTime": {
     "end_time": "2022-03-20T18:13:37.847788Z",
     "start_time": "2022-03-20T18:13:37.823695Z"
    },
    "scrolled": true
   },
   "outputs": [],
   "source": [
    "# grab the column names for later use"
   ]
  },
  {
   "cell_type": "code",
   "execution_count": null,
   "metadata": {
    "ExecuteTime": {
     "end_time": "2022-03-20T18:13:40.347414Z",
     "start_time": "2022-03-20T18:13:40.331935Z"
    }
   },
   "outputs": [],
   "source": [
    "# Let's see if there are any strong correlations in our data\n",
    "# Q What do we see here? Does anything stand out?"
   ]
  },
  {
   "cell_type": "code",
   "execution_count": null,
   "metadata": {
    "ExecuteTime": {
     "end_time": "2022-03-20T18:13:48.533122Z",
     "start_time": "2022-03-20T18:13:48.193110Z"
    }
   },
   "outputs": [],
   "source": [
    "# visualize the correlation matrix\n",
    "# Is this easier than looking at the matrix?"
   ]
  },
  {
   "cell_type": "code",
   "execution_count": null,
   "metadata": {
    "ExecuteTime": {
     "end_time": "2022-03-20T18:14:32.869901Z",
     "start_time": "2022-03-20T18:14:31.554397Z"
    },
    "scrolled": false
   },
   "outputs": [],
   "source": [
    "# Visualize the outcome variable"
   ]
  },
  {
   "cell_type": "code",
   "execution_count": null,
   "metadata": {
    "ExecuteTime": {
     "end_time": "2022-03-20T18:14:37.458539Z",
     "start_time": "2022-03-20T18:14:37.450634Z"
    }
   },
   "outputs": [],
   "source": [
    "# We'll also get a count and ratio to look for imbalance"
   ]
  },
  {
   "cell_type": "code",
   "execution_count": null,
   "metadata": {
    "ExecuteTime": {
     "end_time": "2022-03-20T18:14:45.852551Z",
     "start_time": "2022-03-20T18:14:45.846142Z"
    }
   },
   "outputs": [],
   "source": [
    "# We know we have 768 observations so we're going to split our data into 3 chunks.\n",
    "# take the last 18 observations for a final validation DF\n",
    "\n",
    "#confirm our split"
   ]
  },
  {
   "cell_type": "code",
   "execution_count": null,
   "metadata": {
    "ExecuteTime": {
     "end_time": "2022-03-20T18:15:09.943494Z",
     "start_time": "2022-03-20T18:15:09.933754Z"
    }
   },
   "outputs": [],
   "source": [
    "# Lets split the bulk of the data into training and testing use an 80:20 split\n",
    "\n",
    "# first define X, y\n"
   ]
  },
  {
   "cell_type": "code",
   "execution_count": null,
   "metadata": {
    "ExecuteTime": {
     "end_time": "2022-03-20T18:15:12.514913Z",
     "start_time": "2022-03-20T18:15:12.504905Z"
    }
   },
   "outputs": [],
   "source": [
    "# Train test split the data 80/20 and stratify to ensure the outcomes are proportional in each segment."
   ]
  },
  {
   "cell_type": "code",
   "execution_count": null,
   "metadata": {
    "ExecuteTime": {
     "end_time": "2022-03-20T18:15:13.349508Z",
     "start_time": "2022-03-20T18:15:13.344753Z"
    },
    "scrolled": true
   },
   "outputs": [],
   "source": [
    "# verify the split"
   ]
  },
  {
   "cell_type": "code",
   "execution_count": null,
   "metadata": {
    "ExecuteTime": {
     "end_time": "2022-03-20T18:15:15.922652Z",
     "start_time": "2022-03-20T18:15:15.914801Z"
    },
    "scrolled": true
   },
   "outputs": [],
   "source": [
    "# verify the outcome ratios of test and splits"
   ]
  },
  {
   "cell_type": "markdown",
   "metadata": {},
   "source": [
    "### End EDA\n",
    "We converted the any data types since all our data is numerical."
   ]
  },
  {
   "cell_type": "markdown",
   "metadata": {},
   "source": [
    "## Build and Compare\n",
    "\n",
    "Let's build a few models and compare them.\n",
    "\n",
    "We're working with a blank slate here and I did not pre-build anything so we are doing this from scratch. Expect some bumps and misteps along the way.\n",
    "\n",
    "1. What type of problem is this regression or classification?\n",
    "2. What metrics and tools should we use to evaluate performance?\n",
    "\n",
    "What model should try first?"
   ]
  },
  {
   "cell_type": "code",
   "execution_count": null,
   "metadata": {
    "ExecuteTime": {
     "end_time": "2022-03-20T18:47:03.791512Z",
     "start_time": "2022-03-20T18:47:03.788445Z"
    }
   },
   "outputs": [],
   "source": [
    "#instantiate a logistict regression model"
   ]
  },
  {
   "cell_type": "code",
   "execution_count": null,
   "metadata": {
    "ExecuteTime": {
     "end_time": "2022-03-20T18:47:04.421888Z",
     "start_time": "2022-03-20T18:47:04.395221Z"
    }
   },
   "outputs": [],
   "source": [
    "#fit"
   ]
  },
  {
   "cell_type": "code",
   "execution_count": null,
   "metadata": {
    "ExecuteTime": {
     "end_time": "2022-03-20T18:47:04.933660Z",
     "start_time": "2022-03-20T18:47:04.929459Z"
    }
   },
   "outputs": [],
   "source": [
    "# Predict"
   ]
  },
  {
   "cell_type": "code",
   "execution_count": null,
   "metadata": {
    "ExecuteTime": {
     "end_time": "2022-03-20T18:47:06.134179Z",
     "start_time": "2022-03-20T18:47:06.127725Z"
    }
   },
   "outputs": [],
   "source": [
    "# Score"
   ]
  },
  {
   "cell_type": "code",
   "execution_count": null,
   "metadata": {
    "ExecuteTime": {
     "end_time": "2022-03-20T18:49:25.837569Z",
     "start_time": "2022-03-20T18:49:25.830738Z"
    }
   },
   "outputs": [],
   "source": [
    "# what else should we look at? Confusion matrix\n"
   ]
  },
  {
   "cell_type": "code",
   "execution_count": null,
   "metadata": {
    "ExecuteTime": {
     "end_time": "2022-03-20T18:49:51.752673Z",
     "start_time": "2022-03-20T18:49:51.749767Z"
    }
   },
   "outputs": [],
   "source": [
    "# we need to unravel the confusion matrix # tn, fp, fn, tp = cm_log.ravel()"
   ]
  },
  {
   "cell_type": "code",
   "execution_count": null,
   "metadata": {
    "ExecuteTime": {
     "end_time": "2022-03-20T18:49:35.170390Z",
     "start_time": "2022-03-20T18:49:35.164945Z"
    }
   },
   "outputs": [],
   "source": [
    "# true positive rate = TPR = tp/(tp+fn)\n"
   ]
  },
  {
   "cell_type": "code",
   "execution_count": null,
   "metadata": {
    "ExecuteTime": {
     "end_time": "2022-03-20T18:47:53.122010Z",
     "start_time": "2022-03-20T18:47:53.113309Z"
    }
   },
   "outputs": [],
   "source": [
    "# TRP is also called recall, which we can score directly from sklearn\n"
   ]
  },
  {
   "cell_type": "code",
   "execution_count": null,
   "metadata": {
    "ExecuteTime": {
     "end_time": "2022-03-20T18:50:33.127950Z",
     "start_time": "2022-03-20T18:50:33.120949Z"
    }
   },
   "outputs": [],
   "source": [
    "# As a reminder the baseline accuracy on test set is 65%"
   ]
  },
  {
   "cell_type": "code",
   "execution_count": null,
   "metadata": {
    "ExecuteTime": {
     "end_time": "2022-03-20T18:17:30.273030Z",
     "start_time": "2022-03-20T18:17:30.263977Z"
    }
   },
   "outputs": [],
   "source": [
    "# Let's try KNN\n",
    "# We have to scale our data first.\n",
    "\n",
    "#instantiate\n",
    "\n",
    "\n",
    "# fit the scaler\n",
    "\n",
    "\n",
    "# Transform the training data\n",
    "\n",
    "\n",
    "# Transform the testing data\n",
    "\n"
   ]
  },
  {
   "cell_type": "code",
   "execution_count": null,
   "metadata": {
    "ExecuteTime": {
     "end_time": "2022-03-20T18:18:00.412633Z",
     "start_time": "2022-03-20T18:18:00.403062Z"
    }
   },
   "outputs": [],
   "source": [
    "# Find the best K\n",
    "\n",
    "# pick a range for k\n",
    "\n",
    "\n",
    "# define the parameter grid\n",
    "\n",
    "\n",
    "# display them\n"
   ]
  },
  {
   "cell_type": "code",
   "execution_count": null,
   "metadata": {
    "ExecuteTime": {
     "end_time": "2022-03-20T18:18:07.097043Z",
     "start_time": "2022-03-20T18:18:07.093086Z"
    }
   },
   "outputs": [],
   "source": [
    "# instantiate a KNN classifier\n",
    "\n",
    "# instantiate a grid search GridSearchCV (use the hyper-parameters, scoring = 'recall', return_train_score=True)"
   ]
  },
  {
   "cell_type": "code",
   "execution_count": null,
   "metadata": {
    "ExecuteTime": {
     "end_time": "2022-03-20T18:18:11.000073Z",
     "start_time": "2022-03-20T18:18:07.999035Z"
    }
   },
   "outputs": [],
   "source": [
    "# Fit it\n"
   ]
  },
  {
   "cell_type": "code",
   "execution_count": null,
   "metadata": {},
   "outputs": [],
   "source": [
    "# what is the best estimator, use .best_estimator_"
   ]
  },
  {
   "cell_type": "code",
   "execution_count": null,
   "metadata": {
    "ExecuteTime": {
     "end_time": "2022-03-20T18:18:12.109921Z",
     "start_time": "2022-03-20T18:18:12.096749Z"
    }
   },
   "outputs": [],
   "source": [
    "# make predictions with the best estimator"
   ]
  },
  {
   "cell_type": "code",
   "execution_count": null,
   "metadata": {
    "ExecuteTime": {
     "end_time": "2022-03-20T18:18:14.563813Z",
     "start_time": "2022-03-20T18:18:14.556593Z"
    }
   },
   "outputs": [],
   "source": [
    "# Recall"
   ]
  }
 ],
 "metadata": {
  "kernelspec": {
   "display_name": "Python 3 (ipykernel)",
   "language": "python",
   "name": "python3"
  },
  "language_info": {
   "codemirror_mode": {
    "name": "ipython",
    "version": 3
   },
   "file_extension": ".py",
   "mimetype": "text/x-python",
   "name": "python",
   "nbconvert_exporter": "python",
   "pygments_lexer": "ipython3",
   "version": "3.9.12"
  },
  "toc": {
   "base_numbering": 1,
   "nav_menu": {},
   "number_sections": false,
   "sideBar": true,
   "skip_h1_title": false,
   "title_cell": "Table of Contents",
   "title_sidebar": "Contents",
   "toc_cell": false,
   "toc_position": {
    "height": "calc(100% - 180px)",
    "left": "10px",
    "top": "150px",
    "width": "274.594px"
   },
   "toc_section_display": true,
   "toc_window_display": false
  }
 },
 "nbformat": 4,
 "nbformat_minor": 2
}
